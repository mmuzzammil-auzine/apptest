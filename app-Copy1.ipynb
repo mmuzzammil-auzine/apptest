{
 "cells": [
  {
   "cell_type": "markdown",
   "metadata": {},
   "source": [
    "for Channel codes"
   ]
  },
  {
   "cell_type": "code",
   "execution_count": null,
   "metadata": {},
   "outputs": [
    {
     "name": "stdout",
     "output_type": "stream",
     "text": [
      " * Serving Flask app '__main__'\n",
      " * Debug mode: off\n"
     ]
    },
    {
     "name": "stderr",
     "output_type": "stream",
     "text": [
      "WARNING: This is a development server. Do not use it in a production deployment. Use a production WSGI server instead.\n",
      " * Running on http://127.0.0.1:5000\n",
      "Press CTRL+C to quit\n",
      "127.0.0.1 - - [26/Nov/2023 23:30:14] \"GET / HTTP/1.1\" 200 -\n"
     ]
    },
    {
     "name": "stdout",
     "output_type": "stream",
     "text": [
      "1/1 [==============================] - 8s 8s/step\n"
     ]
    },
    {
     "name": "stderr",
     "output_type": "stream",
     "text": [
      "127.0.0.1 - - [26/Nov/2023 23:30:29] \"POST /classify HTTP/1.1\" 200 -\n",
      "127.0.0.1 - - [26/Nov/2023 23:30:29] \"GET /static/test_polyps__14.jpg HTTP/1.1\" 200 -\n",
      "127.0.0.1 - - [26/Nov/2023 23:30:29] \"GET /static/overlay.png HTTP/1.1\" 200 -\n"
     ]
    },
    {
     "name": "stdout",
     "output_type": "stream",
     "text": [
      "1/1 [==============================] - 0s 41ms/step\n"
     ]
    },
    {
     "name": "stderr",
     "output_type": "stream",
     "text": [
      "127.0.0.1 - - [26/Nov/2023 23:30:45] \"POST /classify HTTP/1.1\" 200 -\n",
      "127.0.0.1 - - [26/Nov/2023 23:30:45] \"GET /static/test_polyps__9.jpg HTTP/1.1\" 200 -\n",
      "127.0.0.1 - - [26/Nov/2023 23:30:45] \"GET /static/overlay.png HTTP/1.1\" 200 -\n"
     ]
    },
    {
     "name": "stdout",
     "output_type": "stream",
     "text": [
      "1/1 [==============================] - 0s 49ms/step\n"
     ]
    },
    {
     "name": "stderr",
     "output_type": "stream",
     "text": [
      "127.0.0.1 - - [26/Nov/2023 23:30:56] \"POST /classify HTTP/1.1\" 200 -\n",
      "127.0.0.1 - - [26/Nov/2023 23:30:56] \"GET /static/test_polyps__48.jpg HTTP/1.1\" 200 -\n",
      "127.0.0.1 - - [26/Nov/2023 23:30:56] \"GET /static/overlay.png HTTP/1.1\" 200 -\n"
     ]
    },
    {
     "name": "stdout",
     "output_type": "stream",
     "text": [
      "1/1 [==============================] - 0s 41ms/step\n"
     ]
    },
    {
     "name": "stderr",
     "output_type": "stream",
     "text": [
      "127.0.0.1 - - [26/Nov/2023 23:31:07] \"POST /classify HTTP/1.1\" 200 -\n",
      "127.0.0.1 - - [26/Nov/2023 23:31:07] \"GET /static/109.png HTTP/1.1\" 200 -\n",
      "127.0.0.1 - - [26/Nov/2023 23:31:07] \"GET /static/overlay.png HTTP/1.1\" 200 -\n"
     ]
    },
    {
     "name": "stdout",
     "output_type": "stream",
     "text": [
      "1/1 [==============================] - 0s 50ms/step\n"
     ]
    },
    {
     "name": "stderr",
     "output_type": "stream",
     "text": [
      "127.0.0.1 - - [26/Nov/2023 23:31:17] \"POST /classify HTTP/1.1\" 200 -\n",
      "127.0.0.1 - - [26/Nov/2023 23:31:17] \"GET /static/44.png HTTP/1.1\" 200 -\n",
      "127.0.0.1 - - [26/Nov/2023 23:31:17] \"GET /static/overlay.png HTTP/1.1\" 200 -\n"
     ]
    },
    {
     "name": "stdout",
     "output_type": "stream",
     "text": [
      "1/1 [==============================] - 0s 36ms/step\n"
     ]
    },
    {
     "name": "stderr",
     "output_type": "stream",
     "text": [
      "127.0.0.1 - - [26/Nov/2023 23:31:27] \"POST /classify HTTP/1.1\" 200 -\n",
      "127.0.0.1 - - [26/Nov/2023 23:31:27] \"GET /static/148.png HTTP/1.1\" 200 -\n",
      "127.0.0.1 - - [26/Nov/2023 23:31:27] \"GET /static/overlay.png HTTP/1.1\" 200 -\n"
     ]
    },
    {
     "name": "stdout",
     "output_type": "stream",
     "text": [
      "1/1 [==============================] - 0s 41ms/step\n"
     ]
    },
    {
     "name": "stderr",
     "output_type": "stream",
     "text": [
      "127.0.0.1 - - [26/Nov/2023 23:32:19] \"POST /classify HTTP/1.1\" 200 -\n",
      "127.0.0.1 - - [26/Nov/2023 23:32:19] \"GET /static/images.jpg HTTP/1.1\" 200 -\n",
      "127.0.0.1 - - [26/Nov/2023 23:32:19] \"GET /static/overlay.png HTTP/1.1\" 200 -\n"
     ]
    },
    {
     "name": "stdout",
     "output_type": "stream",
     "text": [
      "1/1 [==============================] - 0s 48ms/step\n"
     ]
    },
    {
     "name": "stderr",
     "output_type": "stream",
     "text": [
      "127.0.0.1 - - [26/Nov/2023 23:33:13] \"POST /classify HTTP/1.1\" 200 -\n",
      "127.0.0.1 - - [26/Nov/2023 23:33:13] \"GET /static/images_1.jpg HTTP/1.1\" 200 -\n",
      "127.0.0.1 - - [26/Nov/2023 23:33:13] \"GET /static/overlay.png HTTP/1.1\" 200 -\n"
     ]
    },
    {
     "name": "stdout",
     "output_type": "stream",
     "text": [
      "1/1 [==============================] - 0s 36ms/step\n"
     ]
    },
    {
     "name": "stderr",
     "output_type": "stream",
     "text": [
      "127.0.0.1 - - [26/Nov/2023 23:34:00] \"POST /classify HTTP/1.1\" 200 -\n",
      "127.0.0.1 - - [26/Nov/2023 23:34:00] \"GET /static/images_3.jpg HTTP/1.1\" 200 -\n",
      "127.0.0.1 - - [26/Nov/2023 23:34:00] \"GET /static/overlay.png HTTP/1.1\" 200 -\n"
     ]
    },
    {
     "name": "stdout",
     "output_type": "stream",
     "text": [
      "1/1 [==============================] - 0s 47ms/step\n"
     ]
    },
    {
     "name": "stderr",
     "output_type": "stream",
     "text": [
      "127.0.0.1 - - [26/Nov/2023 23:34:09] \"POST /classify HTTP/1.1\" 200 -\n",
      "127.0.0.1 - - [26/Nov/2023 23:34:09] \"GET /static/images.jpg HTTP/1.1\" 200 -\n",
      "127.0.0.1 - - [26/Nov/2023 23:34:09] \"GET /static/overlay.png HTTP/1.1\" 200 -\n"
     ]
    },
    {
     "name": "stdout",
     "output_type": "stream",
     "text": [
      "1/1 [==============================] - 0s 50ms/step\n"
     ]
    },
    {
     "name": "stderr",
     "output_type": "stream",
     "text": [
      "127.0.0.1 - - [26/Nov/2023 23:34:17] \"POST /classify HTTP/1.1\" 200 -\n",
      "127.0.0.1 - - [26/Nov/2023 23:34:17] \"GET /static/images_4.jpg HTTP/1.1\" 200 -\n",
      "127.0.0.1 - - [26/Nov/2023 23:34:17] \"GET /static/overlay.png HTTP/1.1\" 200 -\n"
     ]
    },
    {
     "name": "stdout",
     "output_type": "stream",
     "text": [
      "1/1 [==============================] - 0s 52ms/step\n"
     ]
    },
    {
     "name": "stderr",
     "output_type": "stream",
     "text": [
      "127.0.0.1 - - [26/Nov/2023 23:34:54] \"POST /classify HTTP/1.1\" 200 -\n",
      "127.0.0.1 - - [26/Nov/2023 23:34:54] \"GET /static/images_6.jpg HTTP/1.1\" 200 -\n",
      "127.0.0.1 - - [26/Nov/2023 23:34:54] \"GET /static/overlay.png HTTP/1.1\" 200 -\n"
     ]
    },
    {
     "name": "stdout",
     "output_type": "stream",
     "text": [
      "1/1 [==============================] - 0s 49ms/step\n"
     ]
    },
    {
     "name": "stderr",
     "output_type": "stream",
     "text": [
      "127.0.0.1 - - [26/Nov/2023 23:35:02] \"POST /classify HTTP/1.1\" 200 -\n",
      "127.0.0.1 - - [26/Nov/2023 23:35:02] \"GET /static/images_6.jpg HTTP/1.1\" 200 -\n",
      "127.0.0.1 - - [26/Nov/2023 23:35:02] \"GET /static/overlay.png HTTP/1.1\" 200 -\n"
     ]
    },
    {
     "name": "stdout",
     "output_type": "stream",
     "text": [
      "1/1 [==============================] - 0s 33ms/step\n"
     ]
    },
    {
     "name": "stderr",
     "output_type": "stream",
     "text": [
      "127.0.0.1 - - [26/Nov/2023 23:35:07] \"POST /classify HTTP/1.1\" 200 -\n",
      "127.0.0.1 - - [26/Nov/2023 23:35:07] \"GET /static/images_6.jpg HTTP/1.1\" 200 -\n",
      "127.0.0.1 - - [26/Nov/2023 23:35:07] \"GET /static/overlay.png HTTP/1.1\" 200 -\n"
     ]
    },
    {
     "name": "stdout",
     "output_type": "stream",
     "text": [
      "1/1 [==============================] - 0s 45ms/step\n"
     ]
    },
    {
     "name": "stderr",
     "output_type": "stream",
     "text": [
      "C:\\Users\\user1\\AppData\\Local\\Temp\\ipykernel_2496\\2335089556.py:87: RuntimeWarning: invalid value encountered in divide\n",
      "  heatmap /= np.max(heatmap)\n",
      "C:\\Users\\user1\\AppData\\Local\\Temp\\ipykernel_2496\\2335089556.py:94: RuntimeWarning: invalid value encountered in cast\n",
      "  heatmap = (heatmap * 255).astype(np.uint8)\n",
      "127.0.0.1 - - [26/Nov/2023 23:35:15] \"POST /classify HTTP/1.1\" 200 -\n",
      "127.0.0.1 - - [26/Nov/2023 23:35:15] \"GET /static/images_5.jpg HTTP/1.1\" 200 -\n",
      "127.0.0.1 - - [26/Nov/2023 23:35:15] \"GET /static/overlay.png HTTP/1.1\" 200 -\n"
     ]
    },
    {
     "name": "stdout",
     "output_type": "stream",
     "text": [
      "1/1 [==============================] - 0s 35ms/step\n"
     ]
    },
    {
     "name": "stderr",
     "output_type": "stream",
     "text": [
      "127.0.0.1 - - [26/Nov/2023 23:35:57] \"POST /classify HTTP/1.1\" 200 -\n",
      "127.0.0.1 - - [26/Nov/2023 23:35:57] \"GET /static/test_normal__1.jpg HTTP/1.1\" 200 -\n",
      "127.0.0.1 - - [26/Nov/2023 23:35:57] \"GET /static/overlay.png HTTP/1.1\" 200 -\n"
     ]
    },
    {
     "name": "stdout",
     "output_type": "stream",
     "text": [
      "1/1 [==============================] - 0s 41ms/step\n"
     ]
    },
    {
     "name": "stderr",
     "output_type": "stream",
     "text": [
      "127.0.0.1 - - [26/Nov/2023 23:36:17] \"POST /classify HTTP/1.1\" 200 -\n",
      "127.0.0.1 - - [26/Nov/2023 23:36:17] \"GET /static/test_normal__18.jpg HTTP/1.1\" 200 -\n",
      "127.0.0.1 - - [26/Nov/2023 23:36:17] \"GET /static/overlay.png HTTP/1.1\" 200 -\n"
     ]
    },
    {
     "name": "stdout",
     "output_type": "stream",
     "text": [
      "1/1 [==============================] - 0s 45ms/step\n"
     ]
    },
    {
     "name": "stderr",
     "output_type": "stream",
     "text": [
      "127.0.0.1 - - [26/Nov/2023 23:36:48] \"POST /classify HTTP/1.1\" 200 -\n",
      "127.0.0.1 - - [26/Nov/2023 23:36:48] \"GET /static/test_normal__50.jpg HTTP/1.1\" 200 -\n",
      "127.0.0.1 - - [26/Nov/2023 23:36:48] \"GET /static/overlay.png HTTP/1.1\" 200 -\n"
     ]
    },
    {
     "name": "stdout",
     "output_type": "stream",
     "text": [
      "1/1 [==============================] - 0s 34ms/step\n",
      "1/1 [==============================] - 0s 38ms/step\n"
     ]
    },
    {
     "name": "stderr",
     "output_type": "stream",
     "text": [
      "127.0.0.1 - - [26/Nov/2023 23:37:02] \"POST /classify HTTP/1.1\" 200 -\n",
      "127.0.0.1 - - [26/Nov/2023 23:37:03] \"POST /classify HTTP/1.1\" 200 -\n",
      "127.0.0.1 - - [26/Nov/2023 23:37:03] \"GET /static/test_normal__15.jpg HTTP/1.1\" 200 -\n",
      "127.0.0.1 - - [26/Nov/2023 23:37:03] \"GET /static/overlay.png HTTP/1.1\" 200 -\n"
     ]
    },
    {
     "name": "stdout",
     "output_type": "stream",
     "text": [
      "1/1 [==============================] - 0s 50ms/step\n"
     ]
    },
    {
     "name": "stderr",
     "output_type": "stream",
     "text": [
      "127.0.0.1 - - [26/Nov/2023 23:37:44] \"POST /classify HTTP/1.1\" 200 -\n",
      "127.0.0.1 - - [26/Nov/2023 23:37:44] \"GET /static/test_normal__54.jpg HTTP/1.1\" 200 -\n",
      "127.0.0.1 - - [26/Nov/2023 23:37:44] \"GET /static/overlay.png HTTP/1.1\" 200 -\n"
     ]
    },
    {
     "name": "stdout",
     "output_type": "stream",
     "text": [
      "1/1 [==============================] - 0s 46ms/step\n"
     ]
    },
    {
     "name": "stderr",
     "output_type": "stream",
     "text": [
      "127.0.0.1 - - [26/Nov/2023 23:37:56] \"POST /classify HTTP/1.1\" 200 -\n",
      "127.0.0.1 - - [26/Nov/2023 23:37:56] \"GET /static/test_normal__22.jpg HTTP/1.1\" 200 -\n",
      "127.0.0.1 - - [26/Nov/2023 23:37:56] \"GET /static/overlay.png HTTP/1.1\" 200 -\n"
     ]
    },
    {
     "name": "stdout",
     "output_type": "stream",
     "text": [
      "1/1 [==============================] - 0s 45ms/step\n"
     ]
    },
    {
     "name": "stderr",
     "output_type": "stream",
     "text": [
      "127.0.0.1 - - [26/Nov/2023 23:38:08] \"POST /classify HTTP/1.1\" 200 -\n",
      "127.0.0.1 - - [26/Nov/2023 23:38:08] \"GET /static/test_normal__38.jpg HTTP/1.1\" 200 -\n",
      "127.0.0.1 - - [26/Nov/2023 23:38:08] \"GET /static/overlay.png HTTP/1.1\" 200 -\n"
     ]
    },
    {
     "name": "stdout",
     "output_type": "stream",
     "text": [
      "1/1 [==============================] - 0s 35ms/step\n"
     ]
    },
    {
     "name": "stderr",
     "output_type": "stream",
     "text": [
      "127.0.0.1 - - [26/Nov/2023 23:38:35] \"POST /classify HTTP/1.1\" 200 -\n",
      "127.0.0.1 - - [26/Nov/2023 23:38:35] \"GET /static/test_normal__145.jpg HTTP/1.1\" 200 -\n",
      "127.0.0.1 - - [26/Nov/2023 23:38:35] \"GET /static/overlay.png HTTP/1.1\" 200 -\n"
     ]
    },
    {
     "name": "stdout",
     "output_type": "stream",
     "text": [
      "1/1 [==============================] - 0s 35ms/step\n"
     ]
    },
    {
     "name": "stderr",
     "output_type": "stream",
     "text": [
      "127.0.0.1 - - [26/Nov/2023 23:38:59] \"POST /classify HTTP/1.1\" 200 -\n",
      "127.0.0.1 - - [26/Nov/2023 23:38:59] \"GET /static/test_normal__69.jpg HTTP/1.1\" 200 -\n",
      "127.0.0.1 - - [26/Nov/2023 23:38:59] \"GET /static/overlay.png HTTP/1.1\" 200 -\n"
     ]
    },
    {
     "name": "stdout",
     "output_type": "stream",
     "text": [
      "1/1 [==============================] - 0s 43ms/step\n"
     ]
    },
    {
     "name": "stderr",
     "output_type": "stream",
     "text": [
      "127.0.0.1 - - [26/Nov/2023 23:39:16] \"POST /classify HTTP/1.1\" 200 -\n",
      "127.0.0.1 - - [26/Nov/2023 23:39:16] \"GET /static/test_normal__197.jpg HTTP/1.1\" 200 -\n",
      "127.0.0.1 - - [26/Nov/2023 23:39:16] \"GET /static/overlay.png HTTP/1.1\" 200 -\n"
     ]
    },
    {
     "name": "stdout",
     "output_type": "stream",
     "text": [
      "1/1 [==============================] - 0s 44ms/step\n"
     ]
    },
    {
     "name": "stderr",
     "output_type": "stream",
     "text": [
      "127.0.0.1 - - [26/Nov/2023 23:39:40] \"POST /classify HTTP/1.1\" 200 -\n",
      "127.0.0.1 - - [26/Nov/2023 23:39:40] \"GET /static/test_normal__200.jpg HTTP/1.1\" 200 -\n",
      "127.0.0.1 - - [26/Nov/2023 23:39:40] \"GET /static/overlay.png HTTP/1.1\" 200 -\n"
     ]
    },
    {
     "name": "stdout",
     "output_type": "stream",
     "text": [
      "1/1 [==============================] - 0s 37ms/step\n"
     ]
    },
    {
     "name": "stderr",
     "output_type": "stream",
     "text": [
      "127.0.0.1 - - [26/Nov/2023 23:39:51] \"POST /classify HTTP/1.1\" 200 -\n",
      "127.0.0.1 - - [26/Nov/2023 23:39:51] \"GET /static/test_normal__24.jpg HTTP/1.1\" 200 -\n",
      "127.0.0.1 - - [26/Nov/2023 23:39:51] \"GET /static/overlay.png HTTP/1.1\" 200 -\n"
     ]
    },
    {
     "name": "stdout",
     "output_type": "stream",
     "text": [
      "1/1 [==============================] - 0s 36ms/step\n"
     ]
    },
    {
     "name": "stderr",
     "output_type": "stream",
     "text": [
      "127.0.0.1 - - [26/Nov/2023 23:41:44] \"POST /classify HTTP/1.1\" 200 -\n",
      "127.0.0.1 - - [26/Nov/2023 23:41:44] \"GET /static/images_7.jpg HTTP/1.1\" 200 -\n",
      "127.0.0.1 - - [26/Nov/2023 23:41:44] \"GET /static/overlay.png HTTP/1.1\" 200 -\n"
     ]
    },
    {
     "name": "stdout",
     "output_type": "stream",
     "text": [
      "1/1 [==============================] - 0s 39ms/step\n"
     ]
    },
    {
     "name": "stderr",
     "output_type": "stream",
     "text": [
      "127.0.0.1 - - [26/Nov/2023 23:42:40] \"POST /classify HTTP/1.1\" 200 -\n",
      "127.0.0.1 - - [26/Nov/2023 23:42:40] \"GET /static/download.jpg HTTP/1.1\" 200 -\n",
      "127.0.0.1 - - [26/Nov/2023 23:42:40] \"GET /static/overlay.png HTTP/1.1\" 200 -\n"
     ]
    }
   ],
   "source": [
    "import os\n",
    "import time\n",
    "from flask import Flask, render_template, request\n",
    "from PIL import Image\n",
    "import cv2\n",
    "import numpy as np\n",
    "import tensorflow as tf\n",
    "from werkzeug.utils import secure_filename  # Add this import\n",
    "\n",
    "app = Flask(__name__)\n",
    "\n",
    "# Load the saved model\n",
    "model = tf.keras.models.load_model('C:/Users/user1/Desktop/APP TEST/model_DenseNet169_ECA_Net_2.h5')\n",
    "\n",
    "# Define the classes\n",
    "classes = ['normal','polyps']\n",
    "\n",
    "# Define the upload folder\n",
    "upload_folder = 'C:/Users/user1/Desktop/APP TEST/static'\n",
    "\n",
    "# Ensure the upload folder exists\n",
    "if not os.path.exists(upload_folder):\n",
    "    os.makedirs(upload_folder)\n",
    "\n",
    "# Define the function to preprocess the image\n",
    "def preprocess_image(input_path, output_folder):\n",
    "    # Create the output folder if it doesn't exist\n",
    "    if not os.path.exists(output_folder):\n",
    "        os.makedirs(output_folder)\n",
    "\n",
    "    # Define the target size for resampling\n",
    "    target_size = (224, 224)\n",
    "\n",
    "    # Open the image\n",
    "    img = Image.open(input_path)\n",
    "\n",
    "    # Resample the image using Lanczos interpolation\n",
    "    img_resized = img.resize(target_size, resample=Image.LANCZOS)\n",
    "\n",
    "    # Split the image channels\n",
    "    b, g, r = cv2.split(np.array(img_resized))\n",
    "\n",
    "    # Apply CLAHE to each channel separately\n",
    "    clahe = cv2.createCLAHE(clipLimit=2.0, tileGridSize=(8, 8))\n",
    "    enhanced_b = clahe.apply(b)\n",
    "    enhanced_g = clahe.apply(g)\n",
    "    enhanced_r = clahe.apply(r)\n",
    "\n",
    "    # Merge the enhanced channels back into an RGB image\n",
    "    enhanced = cv2.merge([enhanced_b, enhanced_g, enhanced_r])\n",
    "\n",
    "    # Apply sharpening using the unsharp mask technique\n",
    "    blur = cv2.GaussianBlur(enhanced, (0, 0), 3)\n",
    "    sharp = cv2.addWeighted(enhanced, 1.5, blur, -0.5, 0)\n",
    "\n",
    "    # Convert the sharpened image back to PIL Image\n",
    "    sharp_pil = Image.fromarray(sharp)\n",
    "\n",
    "    # Generate the output file path\n",
    "    output_filename = os.path.basename(input_path)\n",
    "    output_path = os.path.join(output_folder, output_filename)\n",
    "\n",
    "    # Save the pre-processed image to the output folder\n",
    "    sharp_pil.save(output_path)\n",
    "\n",
    "    # Close the image\n",
    "    img.close()\n",
    "\n",
    "    return np.array(sharp_pil)\n",
    "\n",
    "\n",
    "# Function to compute Grad-CAM for channel attention layer\n",
    "def compute_grad_cam_channel_attention(model, image, layer_name):\n",
    "    grad_model = tf.keras.models.Model([model.inputs], [model.get_layer(layer_name).output, model.output])\n",
    "\n",
    "    # Pass the input image through the channel attention layer\n",
    "    with tf.GradientTape() as tape:\n",
    "        channel_attention_output, predictions = grad_model(image)\n",
    "        loss = predictions[:, np.argmax(predictions[0])]\n",
    "\n",
    "    grads = tape.gradient(loss, channel_attention_output)[0]\n",
    "    pooled_grads = tf.reduce_mean(grads, axis=(0, 1, 2))\n",
    "\n",
    "    channel_attention_output = channel_attention_output[0]\n",
    "    heatmap = tf.reduce_sum(tf.multiply(pooled_grads, channel_attention_output), axis=-1)\n",
    "    heatmap = np.maximum(heatmap, 0)\n",
    "    heatmap /= np.max(heatmap)\n",
    "\n",
    "    return heatmap\n",
    "\n",
    "\n",
    "def custom_color_map(heatmap):\n",
    "    # Scale the heatmap to fit within the 8-bit range (0-255)\n",
    "    heatmap = (heatmap * 255).astype(np.uint8)\n",
    "\n",
    "    # Apply the 'JET' color map to the scaled heatmap\n",
    "    colormap = cv2.COLORMAP_JET\n",
    "    heatmap_colored = cv2.applyColorMap(heatmap, colormap)\n",
    "\n",
    "    return heatmap_colored\n",
    "\n",
    "\n",
    "\n",
    "# Function to overlay the activation map on the image\n",
    "def overlay_activation_map(image, activation_map):\n",
    "    # Normalize the heatmap to [0, 1]\n",
    "    heatmap = activation_map - np.min(activation_map)\n",
    "    heatmap /= np.max(heatmap)\n",
    "\n",
    "    # Apply the custom color map to the heatmap\n",
    "    heatmap_colored = custom_color_map(heatmap)\n",
    "\n",
    "    # Resize the heatmap_colored to match the size of the original image\n",
    "    heatmap_resized = cv2.resize(heatmap_colored, (image.shape[1], image.shape[0]))\n",
    "\n",
    "    # Overlay the heatmap on the image\n",
    "    overlay = cv2.addWeighted(image, 0.5, heatmap_resized, 0.7, 0.1)\n",
    "    return overlay\n",
    "\n",
    "\n",
    "ALLOWED_EXTENSIONS = {'png', 'jpeg', 'jpg'}\n",
    "\n",
    "# Function to check if the uploaded file has an allowed extension\n",
    "def allowed_file(filename):\n",
    "    return '.' in filename and filename.rsplit('.', 1)[1].lower() in ALLOWED_EXTENSIONS\n",
    "\n",
    "@app.route('/')\n",
    "def index():\n",
    "    return render_template('index.html')\n",
    "\n",
    "@app.route('/classify', methods=['POST'])\n",
    "def classify():\n",
    "    # Check if the request contains a file\n",
    "    if 'image' not in request.files:\n",
    "        return render_template('index.html', error='No image file found, please upload an image')\n",
    "\n",
    "    # Get the uploaded file\n",
    "    uploaded_file = request.files['image']\n",
    "\n",
    "    # Check if the file has a filename\n",
    "    if uploaded_file.filename == '':\n",
    "        return render_template('index.html', error='No image selected, please upload an image')\n",
    "\n",
    "    # Check if the file has an allowed extension\n",
    "    if not allowed_file(uploaded_file.filename):\n",
    "        return render_template('index.html', error='Invalid file format. Only .png, .jpeg and .jpg formats are allowed.')\n",
    "\n",
    "    # Save the uploaded file to the upload folder\n",
    "    filename = secure_filename(uploaded_file.filename)\n",
    "    image_path = os.path.join(upload_folder, filename)\n",
    "    uploaded_file.save(image_path)\n",
    "\n",
    "    # Preprocess the input image\n",
    "    preprocess_image(image_path, upload_folder)\n",
    "\n",
    "    # Load the pre-processed image\n",
    "    preprocessed_image = Image.open(os.path.join(upload_folder, os.path.basename(image_path)))\n",
    "\n",
    "    # Convert the image to a numpy array\n",
    "    preprocessed_image_array = np.array(preprocessed_image)\n",
    "\n",
    "    # Check if the preprocessed image is valid\n",
    "    if preprocessed_image_array is None:\n",
    "        return render_template('index.html', error='Error processing the uploaded image. Please try again.')\n",
    "\n",
    "    try:\n",
    "        # Start the timer\n",
    "        start_time = time.time()\n",
    "        # Perform the prediction\n",
    "        input_tensor = np.expand_dims(preprocessed_image_array / 255.0, axis=0)\n",
    "        predictions = model.predict(input_tensor)\n",
    "        predicted_class_index = np.argmax(predictions)\n",
    "        predicted_class = classes[predicted_class_index]\n",
    "        prediction_accuracy = predictions[0][predicted_class_index]\n",
    "\n",
    "        # Get the Grad-CAM activation map for channel attention layer\n",
    "        activation_map = compute_grad_cam_channel_attention(model, input_tensor, layer_name='tf.math.multiply_1')  \n",
    "\n",
    "        # Overlay the activation map on the image\n",
    "        overlay_image = overlay_activation_map(preprocessed_image_array, activation_map)\n",
    "\n",
    "        # Save the overlay image\n",
    "        overlay_path = os.path.join(upload_folder, 'overlay.png')\n",
    "        cv2.imwrite(overlay_path, overlay_image)\n",
    "\n",
    "        # Stop the timer and calculate the elapsed time\n",
    "        end_time = time.time()\n",
    "        elapsed_time = end_time - start_time\n",
    "\n",
    "        # Update the template with the prediction results\n",
    "        return render_template('index.html', image_path=os.path.basename(image_path),\n",
    "                               grad_cam_path='overlay.png', predicted_class=predicted_class,\n",
    "                               prediction_accuracy=prediction_accuracy,elapsed_time=elapsed_time)\n",
    "\n",
    "    except Exception as e:\n",
    "        # Handle any potential exceptions during visualization\n",
    "        return render_template('index.html', error='Error during visualization: {}'.format(str(e)))\n",
    "\n",
    "if __name__ == '__main__':\n",
    "    app.run()"
   ]
  },
  {
   "cell_type": "code",
   "execution_count": null,
   "metadata": {},
   "outputs": [],
   "source": []
  }
 ],
 "metadata": {
  "kernelspec": {
   "display_name": "Python 3 (ipykernel)",
   "language": "python",
   "name": "python3"
  },
  "language_info": {
   "codemirror_mode": {
    "name": "ipython",
    "version": 3
   },
   "file_extension": ".py",
   "mimetype": "text/x-python",
   "name": "python",
   "nbconvert_exporter": "python",
   "pygments_lexer": "ipython3",
   "version": "3.9.16"
  }
 },
 "nbformat": 4,
 "nbformat_minor": 2
}
